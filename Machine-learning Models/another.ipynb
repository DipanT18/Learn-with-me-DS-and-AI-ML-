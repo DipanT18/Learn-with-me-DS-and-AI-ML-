{
 "cells": [
  {
   "cell_type": "code",
   "execution_count": 4,
   "id": "4a171061",
   "metadata": {},
   "outputs": [
    {
     "name": "stdout",
     "output_type": "stream",
     "text": [
      "Spam Detection Results:\n",
      "Message: 'Congratulations! You've won a free iPhone. Click here to claim your prize.' -> Predicted: spam\n",
      "Message: 'Hey, do you have time to chat later today?' -> Predicted: spam\n",
      "Message: 'URGENT: Your account has been suspended. Please update your details now.' -> Predicted: spam\n",
      "Message: 'Can you send me the report by end of day?' -> Predicted: ham\n",
      "Message: 'WINNER!! As a valued network customer you have been selected to receive a £900 prize.' -> Predicted: spam\n",
      "Message: 'Just confirming our meeting for tomorrow.' -> Predicted: ham\n"
     ]
    }
   ],
   "source": [
    "import pandas as pd\n",
    "import re\n",
    "from sklearn.base import BaseEstimator, TransformerMixin\n",
    "from sklearn.model_selection import train_test_split\n",
    "from sklearn.feature_extraction.text import TfidfVectorizer\n",
    "from imblearn.over_sampling import SMOTE\n",
    "from imblearn.pipeline import Pipeline\n",
    "from sklearn.naive_bayes import MultinomialNB\n",
    "\n",
    "# Define the custom TextPreprocessor class first\n",
    "class TextPreprocessor(BaseEstimator, TransformerMixin):\n",
    "    \"\"\"\n",
    "    A custom transformer to perform basic text cleaning.\n",
    "    \"\"\"\n",
    "    def fit(self, X, y=None):\n",
    "        return self\n",
    "    def transform(self, X):\n",
    "        # Convert input to a pandas Series if it's not already\n",
    "        if not isinstance(X, pd.Series):\n",
    "            X = pd.Series(X)\n",
    "            \n",
    "        # Convert all text to lowercase\n",
    "        X = X.apply(lambda text: text.lower())\n",
    "        # Remove punctuation\n",
    "        X = X.apply(lambda text: re.sub(r'[^\\w\\s]', '', text))\n",
    "        return X\n",
    "\n",
    "# 1. Load data (replace 'your_spam_dataset.csv' with your actual file name)\n",
    "# Assuming a DataFrame with a 'text' column for messages and a 'label' column for classification\n",
    "spam_data = pd.read_csv('D:/Learn with me (DS and AIML)/spam.csv')\n",
    "\n",
    "# 2. Define X (features) and y (target)\n",
    "X = spam_data['text']\n",
    "y = spam_data['label']\n",
    "\n",
    "# 3. Create the imblearn pipeline with all steps in the correct order\n",
    "pipeline = Pipeline([\n",
    "    ('preprocessor', TextPreprocessor()),  # Step 1: Preprocess text\n",
    "    ('tfidf', TfidfVectorizer(stop_words='english', ngram_range=(1, 2))),  # Step 2: Vectorize text\n",
    "    ('oversample', SMOTE(random_state=42)),  # Step 3: Resample numerical data\n",
    "    ('classifier', MultinomialNB())  # Step 4: Train classifier\n",
    "])\n",
    "\n",
    "# 4. Split the data\n",
    "X_train, X_test, y_train, y_test = train_test_split(X, y, test_size=0.2, random_state=42)\n",
    "\n",
    "# 5. Train the pipeline on the training data\n",
    "pipeline.fit(X_train, y_train)\n",
    "\n",
    "# 6. Define and predict new messages\n",
    "test_messages = [\n",
    "    \"Congratulations! You've won a free iPhone. Click here to claim your prize.\",\n",
    "    \"Hey, do you have time to chat later today?\",\n",
    "    \"URGENT: Your account has been suspended. Please update your details now.\",\n",
    "    \"Can you send me the report by end of day?\",\n",
    "    \"WINNER!! As a valued network customer you have been selected to receive a £900 prize.\",\n",
    "    \"Just confirming our meeting for tomorrow.\",\n",
    "]\n",
    "\n",
    "detections = pipeline.predict(test_messages)\n",
    "\n",
    "# 7. Display the results\n",
    "print(\"Spam Detection Results:\")\n",
    "for i, message in enumerate(test_messages):\n",
    "    prediction = detections[i]\n",
    "    print(f\"Message: '{message}' -> Predicted: {prediction}\")\n"
   ]
  }
 ],
 "metadata": {
  "kernelspec": {
   "display_name": "Python 3",
   "language": "python",
   "name": "python3"
  },
  "language_info": {
   "codemirror_mode": {
    "name": "ipython",
    "version": 3
   },
   "file_extension": ".py",
   "mimetype": "text/x-python",
   "name": "python",
   "nbconvert_exporter": "python",
   "pygments_lexer": "ipython3",
   "version": "3.12.0"
  }
 },
 "nbformat": 4,
 "nbformat_minor": 5
}
